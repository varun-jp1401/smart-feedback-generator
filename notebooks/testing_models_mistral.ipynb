{
 "cells": [
  {
   "cell_type": "code",
   "execution_count": 1,
   "id": "445a62a5-5c49-483a-8616-86572cfeae41",
   "metadata": {},
   "outputs": [
    {
     "name": "stdout",
     "output_type": "stream",
     "text": [
      "Response:  Photosynthesis is the process by which plants use sunlight, water, and carbon dioxide to produce energy in the form of glucose or sugar and release oxygen as a byproduct. It is an essential process for life on Earth, as it provides the primary source of energy for almost all living organisms. Chlorophyll, a pigment found in plant cells, absorbs the energy from sunlight, which is used to drive a series of chemical reactions that split water molecules into hydrogen and oxygen. The hydrogen is then used to create glucose, while the oxygen is released as a waste product. Photosynthesis occurs in the chloroplasts of plant cells and is a crucial process\n"
     ]
    }
   ],
   "source": [
    "import openai\n",
    "\n",
    "# Set Together API Key\n",
    "openai.api_key = \"92328edde95f65943128cf7ee4cef72431aaccd8de8cde7eef4c1195cad68a2e\"\n",
    "openai.api_base = \"https://api.together.xyz/v1\"\n",
    "\n",
    "# Test with Mistral model\n",
    "response = openai.ChatCompletion.create(\n",
    "    model=\"mistralai/Mistral-7B-Instruct-v0.1\",\n",
    "    messages=[\n",
    "        {\"role\": \"system\", \"content\": \"You are a helpful middle school teacher.\"},\n",
    "        {\"role\": \"user\", \"content\": \"What is photosynthesis?\"}\n",
    "    ],\n",
    "    temperature=0.7,\n",
    "    max_tokens=150\n",
    ")\n",
    "\n",
    "print(\"Response:\", response['choices'][0]['message']['content'])\n"
   ]
  },
  {
   "cell_type": "code",
   "execution_count": 17,
   "id": "5b9c5849-bbab-48ad-839f-f8bec994e14f",
   "metadata": {},
   "outputs": [
    {
     "name": "stdout",
     "output_type": "stream",
     "text": [
      "📝 Feedback:\n",
      " Your answer provides a basic understanding of the heart's function, but it could be improved by mentioning more specific details. The heart not only beats to keep us alive, but it also plays a crucial role in circulating blood throughout the body. This blood carries oxygen and nutrients to tissues and removes waste products. While your answer is a good start, it would benefit from including these additional details.\n"
     ]
    }
   ],
   "source": [
    "import openai\n",
    "\n",
    "# ✅ Set your Together API key and endpoint\n",
    "openai.api_key = \"92328edde95f65943128cf7ee4cef72431aaccd8de8cde7eef4c1195cad68a2e\"  # 🔒 Replace with your Together API key\n",
    "openai.api_base = \"https://api.together.xyz/v1\"\n",
    "\n",
    "# ✅ Custom Prompt Builder\n",
    "def build_prompt(question, ideal_answer, student_answer):\n",
    "    return f\"\"\"You are a supportive but honest middle school science teacher.\n",
    "\n",
    "Your job is to give clear, constructive feedback to the student based on the difference between their answer and the ideal answer.\n",
    "\n",
    "- If the student answer is nearly identical to the ideal answer, briefly praise it and say it's correct.\n",
    "- If it's vague or incomplete, give a gentle hint about what idea is missing — without giving away the exact keyword.\n",
    "- If there’s a spelling mistake in an important concept, mention it indirectly (e.g. \"check your spelling on a science term\").\n",
    "- NEVER repeat the ideal answer or give away correct terms.\n",
    "- Speak directly to the student.\n",
    "\n",
    "---\n",
    "\n",
    "Question: {question}\n",
    "\n",
    "Ideal Answer: {ideal_answer}\n",
    "\n",
    "Student Answer: {student_answer}\n",
    "\n",
    "Now give only feedback, starting immediately with your response:\n",
    "\"\"\"\n",
    "\n",
    "# ✅ Sample Data\n",
    "question = \"What is the function of the heart in the human body?\"\n",
    "ideal_answer = \"The heart pumps blood throughout the body, supplying oxygen and nutrients to tissues and removing waste products.\"\n",
    "student_answer = \"The heart beats to keep us alive and moves stuff around.\"\n",
    "\n",
    "# ✅ Generate Feedback\n",
    "prompt = build_prompt(question, ideal_answer, student_answer)\n",
    "\n",
    "response = openai.ChatCompletion.create(\n",
    "    model=\"mistralai/Mistral-7B-Instruct-v0.1\",\n",
    "    messages=[{\"role\": \"user\", \"content\": prompt}],\n",
    "    temperature=0.7,\n",
    "    max_tokens=150,\n",
    ")\n",
    "\n",
    "print(\"📝 Feedback:\\n\", response['choices'][0]['message']['content'].strip())\n"
   ]
  },
  {
   "cell_type": "code",
   "execution_count": null,
   "id": "f3871ce1-875e-4429-b438-0801d355eecb",
   "metadata": {},
   "outputs": [],
   "source": []
  },
  {
   "cell_type": "code",
   "execution_count": null,
   "id": "ffd6114f-eb14-4a0e-84a3-644ea6674fa4",
   "metadata": {},
   "outputs": [],
   "source": []
  }
 ],
 "metadata": {
  "kernelspec": {
   "display_name": "Python (venv)",
   "language": "python",
   "name": "venv"
  },
  "language_info": {
   "codemirror_mode": {
    "name": "ipython",
    "version": 3
   },
   "file_extension": ".py",
   "mimetype": "text/x-python",
   "name": "python",
   "nbconvert_exporter": "python",
   "pygments_lexer": "ipython3",
   "version": "3.12.3"
  }
 },
 "nbformat": 4,
 "nbformat_minor": 5
}
