{
 "cells": [
  {
   "cell_type": "code",
   "execution_count": 18,
   "id": "70728393-21e4-48b0-91fe-84724fad6094",
   "metadata": {},
   "outputs": [
    {
     "name": "stdout",
     "output_type": "stream",
     "text": [
      "📝 Feedback:\n",
      " You're on the right track by mentioning that plants use light to make food! Let's explore a bit more about what they take in from the air and what they release. This will help complete the picture of how plants make their food. Great start!\n"
     ]
    }
   ],
   "source": [
    "import openai\n",
    "import re\n",
    "\n",
    "# ✅ Set your Together API key\n",
    "openai.api_key = \"92328edde95f65943128cf7ee4cef72431aaccd8de8cde7eef4c1195cad68a2e\"\n",
    "openai.api_base = \"https://api.together.xyz/v1\"\n",
    "\n",
    "# ✅ Choose a smart model (you can change this to mistralai/Mistral-7B-Instruct-v0.1, etc.)\n",
    "model_name = \"deepseek-ai/DeepSeek-Coder-6.7B-instruct\"\n",
    "\n",
    "# ✅ System prompt to suppress <think> and encourage good feedback\n",
    "system_prompt = \"\"\"You are a supportive but strict middle school science teacher. \n",
    "Your job is to give smart, constructive feedback to a student's answer based on the question and the ideal answer.\n",
    "\n",
    "Rules:\n",
    "- if the answer is same as ideal answer, say its right.\n",
    "- If the student answer is very close to the ideal answer, acknowledge it positively.\n",
    "- If the student misses a key concept, give a gentle hint — do NOT directly mention the missing keyword.\n",
    "- If there is a spelling mistake, only point it out if it's significant — but do NOT say the correct spelling. Be very careful when checking for spelling mistake.\n",
    "- Do NOT mention the ideal answer again.\n",
    "- Avoid saying 'wrong' or being negative. Be encouraging and helpful.\n",
    "- Keep feedback clear, natural, and student-facing — never include meta commentary or internal thoughts.\n",
    "\n",
    "Always start directly with the feedback.\n",
    "\"\"\"\n",
    "# ✅ Function to remove <think> blocks if they sneak in\n",
    "def strip_think_blocks(text):\n",
    "    return re.sub(r\"<think>.*?</think>\", \"\", text, flags=re.DOTALL).strip()\n",
    "\n",
    "# ✅ Example Q/A\n",
    "question = \"What is photosynthesis?\"\n",
    "ideal_answer = (\n",
    "    \"Photosynthesis is the process by which green plants use sunlight to synthesize food from carbon dioxide and water. \"\n",
    "    \"It produces oxygen as a byproduct.\"\n",
    ")\n",
    "student_answer = \"Plants use light to make food and they get air from leaves.\"\n",
    "\n",
    "# ✅ Build user prompt\n",
    "user_prompt = f\"\"\"Question: {question}\n",
    "Ideal Answer: {ideal_answer}\n",
    "Student Answer: {student_answer}\n",
    "\n",
    "Provide feedback to the student based on their answer.\"\"\"\n",
    "\n",
    "# ✅ Generate response\n",
    "response = openai.ChatCompletion.create(\n",
    "    model = \"deepseek-ai/DeepSeek-R1-Distill-Llama-70B-free\"\n",
    ",\n",
    "    messages=[\n",
    "        {\"role\": \"system\", \"content\": system_prompt},\n",
    "        {\"role\": \"user\", \"content\": user_prompt}\n",
    "],\n",
    "    temperature=0.7,\n",
    "    max_tokens=1500\n",
    ")\n",
    "\n",
    "# ✅ Clean and print final output\n",
    "raw_output = response['choices'][0]['message']['content']\n",
    "final_feedback = strip_think_blocks(raw_output)\n",
    "print(\"📝 Feedback:\\n\", final_feedback)\n"
   ]
  },
  {
   "cell_type": "code",
   "execution_count": null,
   "id": "331480f1-9eb5-4eb0-bc65-e760c4aa8b86",
   "metadata": {},
   "outputs": [],
   "source": [
    "deepseek-ai/DeepSeek-R1-Distill-Llama-70B-free\n",
    "92328edde95f65943128cf7ee4cef72431aaccd8de8cde7eef4c1195cad68a2e"
   ]
  }
 ],
 "metadata": {
  "kernelspec": {
   "display_name": "Python (venv)",
   "language": "python",
   "name": "venv"
  },
  "language_info": {
   "codemirror_mode": {
    "name": "ipython",
    "version": 3
   },
   "file_extension": ".py",
   "mimetype": "text/x-python",
   "name": "python",
   "nbconvert_exporter": "python",
   "pygments_lexer": "ipython3",
   "version": "3.12.3"
  }
 },
 "nbformat": 4,
 "nbformat_minor": 5
}
