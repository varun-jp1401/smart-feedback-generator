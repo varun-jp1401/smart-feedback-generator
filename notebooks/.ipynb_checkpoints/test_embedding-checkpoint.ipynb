{
 "cells": [
  {
   "cell_type": "code",
   "execution_count": 8,
   "id": "46ebc72a-042e-45cd-9c9b-455da26724e5",
   "metadata": {},
   "outputs": [
    {
     "name": "stdout",
     "output_type": "stream",
     "text": [
      "\n",
      "Sentence 1: The quick brown fox jumps over the lazy dog.\n",
      "Embedding shape: (384,)\n",
      "Embedding (first 5 values): [0.04393357 0.05893434 0.04817841 0.07754806 0.02674433]\n",
      "\n",
      "Sentence 2: Machine learning is fun!\n",
      "Embedding shape: (384,)\n",
      "Embedding (first 5 values): [-0.00285216 -0.08175397  0.08026798 -0.00358482 -0.03835624]\n",
      "\n",
      "Sentence 3: Edcite Smart Feedback Generator is under development.\n",
      "Embedding shape: (384,)\n",
      "Embedding (first 5 values): [-0.1386667   0.00432287  0.01264057  0.03296264 -0.01124641]\n"
     ]
    }
   ],
   "source": [
    "\n",
    "#model import and initialization\n",
    "from sentence_transformers import SentenceTransformer\n",
    "\n",
    "model = SentenceTransformer('all-MiniLM-L6-v2')\n",
    "\n",
    "sentences = [\n",
    "    \"The quick brown fox jumps over the lazy dog.\",\n",
    "    \"Machine learning is fun!\",\n",
    "    \"Edcite Smart Feedback Generator is under development.\"\n",
    "]\n",
    "\n",
    "embeddings = model.encode(sentences)\n",
    "\n",
    "for i, sentence in enumerate(sentences):\n",
    "    print(f\"\\nSentence {i+1}: {sentence}\")\n",
    "    print(f\"Embedding shape: {embeddings[i].shape}\")\n",
    "    print(f\"Embedding (first 5 values): {embeddings[i][:5]}\")\n"
   ]
  },
  {
   "cell_type": "code",
   "execution_count": 9,
   "id": "29bd71c1-9266-4716-9f8f-58a9defce0ea",
   "metadata": {},
   "outputs": [
    {
     "name": "stdout",
     "output_type": "stream",
     "text": [
      "Sentence: The sky is blue.\n",
      "Embedding (first 5 values): [0.01791947 0.0135288  0.04279668 0.01671825 0.02982369]\n",
      "--------------------------------------------------\n",
      "Sentence: I love machine learning.\n",
      "Embedding (first 5 values): [-0.01685099 -0.07072186  0.08554102 -0.00176608  0.04520883]\n",
      "--------------------------------------------------\n"
     ]
    }
   ],
   "source": [
    "#model import and initialization\n",
    "from sentence_transformers import SentenceTransformer\n",
    "\n",
    "model = SentenceTransformer('all-MiniLM-L6-v2')\n",
    "\n",
    "sentences = [\"The sky is blue.\", \"I love machine learning.\"]\n",
    "\n",
    "embeddings = model.encode(sentences)\n",
    "\n",
    "for sentence, embedding in zip(sentences, embeddings):\n",
    "    print(f\"Sentence: {sentence}\")\n",
    "    print(f\"Embedding (first 5 values): {embedding[:5]}\")\n",
    "    print(\"-\" * 50)\n"
   ]
  },
  {
   "cell_type": "code",
   "execution_count": 14,
   "id": "710219ca-b41f-4aff-8b53-15f478aa10a7",
   "metadata": {},
   "outputs": [
    {
     "data": {
      "application/vnd.jupyter.widget-view+json": {
       "model_id": "e222e898350e40768ab8bfc80bf03c02",
       "version_major": 2,
       "version_minor": 0
      },
      "text/plain": [
       "Batches:   0%|          | 0/1 [00:00<?, ?it/s]"
      ]
     },
     "metadata": {},
     "output_type": "display_data"
    },
    {
     "name": "stdout",
     "output_type": "stream",
     "text": [
      "grade5 → 10 embeddings generated.\n"
     ]
    },
    {
     "data": {
      "application/vnd.jupyter.widget-view+json": {
       "model_id": "5ab7f80edf8640d4a7c3d2a5ec96ea72",
       "version_major": 2,
       "version_minor": 0
      },
      "text/plain": [
       "Batches:   0%|          | 0/1 [00:00<?, ?it/s]"
      ]
     },
     "metadata": {},
     "output_type": "display_data"
    },
    {
     "name": "stdout",
     "output_type": "stream",
     "text": [
      "grade6 → 10 embeddings generated.\n"
     ]
    },
    {
     "data": {
      "application/vnd.jupyter.widget-view+json": {
       "model_id": "c38ba4ede14041f783dc5568c8081be6",
       "version_major": 2,
       "version_minor": 0
      },
      "text/plain": [
       "Batches:   0%|          | 0/1 [00:00<?, ?it/s]"
      ]
     },
     "metadata": {},
     "output_type": "display_data"
    },
    {
     "name": "stdout",
     "output_type": "stream",
     "text": [
      "grade7 → 10 embeddings generated.\n",
      "\n",
      "Sample embedding vector length: 384\n"
     ]
    }
   ],
   "source": [
    "import pandas as pd\n",
    "from sentence_transformers import SentenceTransformer\n",
    "\n",
    "model = SentenceTransformer('all-MiniLM-L6-v2')\n",
    "\n",
    "grades = ['grade5', 'grade6', 'grade7']\n",
    "\n",
    "all_embeddings = {}\n",
    "\n",
    "for grade in grades:\n",
    "    path = f'D:/Varun PERSONAL/Edcite/smart_feedback_generator/data/{grade}.csv'\n",
    "    df = pd.read_csv(path)\n",
    "    \n",
    "    # Embed the 'ideal_answer' column\n",
    "    embeddings = model.encode(df['ideal_answer'].tolist(), show_progress_bar=True)\n",
    "    \n",
    "\n",
    "    all_embeddings[grade] = embeddings\n",
    "    \n",
    "    print(f'{grade} → {len(embeddings)} embeddings generated.')\n",
    "\n",
    "\n",
    "print(f\"\\nSample embedding vector length: {len(all_embeddings['grade5'][0])}\")\n"
   ]
  },
  {
   "cell_type": "code",
   "execution_count": null,
   "id": "2deb0bd6-4439-4ffd-ab8f-5725bdd6a324",
   "metadata": {},
   "outputs": [],
   "source": []
  }
 ],
 "metadata": {
  "kernelspec": {
   "display_name": "Python (venv)",
   "language": "python",
   "name": "venv"
  },
  "language_info": {
   "codemirror_mode": {
    "name": "ipython",
    "version": 3
   },
   "file_extension": ".py",
   "mimetype": "text/x-python",
   "name": "python",
   "nbconvert_exporter": "python",
   "pygments_lexer": "ipython3",
   "version": "3.12.3"
  }
 },
 "nbformat": 4,
 "nbformat_minor": 5
}
