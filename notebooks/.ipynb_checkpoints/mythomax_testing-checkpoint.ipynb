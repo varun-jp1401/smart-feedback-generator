{
 "cells": [
  {
   "cell_type": "code",
   "execution_count": null,
   "id": "38600117-7de7-4853-ba3f-b0c65010429c",
   "metadata": {},
   "outputs": [],
   "source": [
    "from ctransformers import AutoModelForCausalLM\n",
    "\n",
    "# ✅ 1. Path to your model\n",
    "model_path = \"D:/Varun PERSONAL/Edcite/smart_feedback_generator/models/mythomax/mythomax-l2-13b.Q4_K_M.gguf\"\n",
    "\n",
    "# ✅ 2. Load model with mistral type\n",
    "llm = AutoModelForCausalLM.from_pretrained(\n",
    "    model_path,\n",
    "    model_type=\"mistral\",  # use 'mistral' even for mythomax L2\n",
    "    max_new_tokens=150,\n",
    "    temperature=0.7,\n",
    "    top_p=0.9,\n",
    "    repetition_penalty=1.1\n",
    ")\n",
    "\n",
    "# ✅ 3. Build test prompt\n",
    "question = \"What is photosynthesis?\"\n",
    "ideal_answer = \"Photosynthesis is the process by which green plants use sunlight to synthesize food from carbon dioxide and water. It produces oxygen as a byproduct.\"\n",
    "student_answer = \"Plants make food from sunlight and water, and they get air from leaves.\"\n",
    "\n",
    "prompt = f\"\"\"You are a supportive but strict middle school science teacher.\n",
    "\n",
    "Question: {question}\n",
    "Ideal Answer: {ideal_answer}\n",
    "Student Answer: {student_answer}\n",
    "\n",
    "Your job is to give helpful, detailed feedback:\n",
    "- If the student answer is very similar to the ideal answer, say it is well-written or correct.\n",
    "- If they missed a key idea, give a gentle hint about what they could add — without giving away the keyword.\n",
    "- If there's a spelling mistake in an important word, gently point it out without saying the correct word.\n",
    "- Do not repeat the ideal answer.\n",
    "- Avoid saying “wrong” — always be constructive.\n",
    "\n",
    "Start directly with feedback. Keep it natural and encouraging.\"\"\"\n",
    "\n",
    "# ✅ 4. Generate response\n",
    "response = llm(prompt)\n",
    "print(\"📝 Feedback:\\n\", response.strip())\n"
   ]
  },
  {
   "cell_type": "code",
   "execution_count": 1,
   "id": "481bd722-2bb2-47d1-8305-da56123d4c14",
   "metadata": {},
   "outputs": [
    {
     "name": "stdout",
     "output_type": "stream",
     "text": [
      "Heededllo\n"
     ]
    }
   ],
   "source": [
    "print(\"Heededllo\")"
   ]
  },
  {
   "cell_type": "code",
   "execution_count": null,
   "id": "a8151927-24c2-4faa-92b4-831b001c0420",
   "metadata": {},
   "outputs": [],
   "source": [
    "from ctransformers import AutoModelForCausalLM\n",
    "\n",
    "# ✅ Path to your downloaded MythoMax model\n",
    "model_path = \"D:/Varun PERSONAL/Edcite/smart_feedback_generator/models/mythomax/mythomax-l2-13b.Q4_K_M.gguf\"\n",
    "\n",
    "# ✅ Load with smaller generation settings\n",
    "llm = AutoModelForCausalLM.from_pretrained(\n",
    "    model_path,\n",
    "    model_type=\"llama\",\n",
    "    max_new_tokens=50,             # Limit output to 50 tokens\n",
    "    temperature=0.6,\n",
    "    top_p=0.85,\n",
    "    repetition_penalty=1.05\n",
    ")\n",
    "\n",
    "# ✅ Tiny test prompt\n",
    "prompt = \"\"\"\n",
    "You are a helpful teacher.\n",
    "Question: What is photosynthesis?\n",
    "Ideal Answer: Photosynthesis is the process by which plants convert sunlight, carbon dioxide, and water into food and oxygen.\n",
    "Student Answer: Plants make food using sunlight and water.\n",
    "\n",
    "Give brief, helpful feedback. If the student is close, say so. If something is missing, give a subtle hint without revealing the keyword. Avoid saying wrong.\n",
    "Start directly with feedback:\n",
    "\"\"\"\n",
    "\n",
    "# ✅ Generate and print output\n",
    "response = llm(prompt)\n",
    "print(\"📝 Feedback:\\n\", response.strip())\n"
   ]
  },
  {
   "cell_type": "code",
   "execution_count": null,
   "id": "5e674661-8406-46e2-9231-a5fd64598fb2",
   "metadata": {},
   "outputs": [],
   "source": []
  }
 ],
 "metadata": {
  "kernelspec": {
   "display_name": "Python (venv)",
   "language": "python",
   "name": "venv"
  },
  "language_info": {
   "codemirror_mode": {
    "name": "ipython",
    "version": 3
   },
   "file_extension": ".py",
   "mimetype": "text/x-python",
   "name": "python",
   "nbconvert_exporter": "python",
   "pygments_lexer": "ipython3",
   "version": "3.12.3"
  }
 },
 "nbformat": 4,
 "nbformat_minor": 5
}
