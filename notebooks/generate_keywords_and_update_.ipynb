{
 "cells": [
  {
   "cell_type": "code",
   "execution_count": 1,
   "id": "0963b191-c11b-4a96-a746-7d000c4db0c6",
   "metadata": {},
   "outputs": [
    {
     "name": "stdout",
     "output_type": "stream",
     "text": [
      "Updated D:/Varun PERSONAL/Edcite/smart_feedback_generator/data/grade5.csv with ideal_keywords.\n",
      "Updated D:/Varun PERSONAL/Edcite/smart_feedback_generator/data/grade6.csv with ideal_keywords.\n",
      "Updated D:/Varun PERSONAL/Edcite/smart_feedback_generator/data/grade7.csv with ideal_keywords.\n"
     ]
    }
   ],
   "source": [
    "from keybert import KeyBERT\n",
    "import pandas as pd\n",
    "\n",
    "# Load KeyBERT model\n",
    "kw_model = KeyBERT()\n",
    "\n",
    "# Function to extract keywords from a text\n",
    "def extract_keywords(text, top_n=3):\n",
    "    keywords = kw_model.extract_keywords(text, stop_words='english', top_n=top_n)\n",
    "    return ', '.join([kw[0] for kw in keywords])\n",
    "\n",
    "# List of grade files\n",
    "grade_files = ['D:/Varun PERSONAL/Edcite/smart_feedback_generator/data/grade5.csv', 'D:/Varun PERSONAL/Edcite/smart_feedback_generator/data/grade6.csv', 'D:/Varun PERSONAL/Edcite/smart_feedback_generator/data/grade7.csv']\n",
    "\n",
    "for file in grade_files:\n",
    "    df = pd.read_csv(file)\n",
    "\n",
    "    # Extract keywords for each ideal answer\n",
    "    df['ideal_keywords'] = df['ideal_answer'].apply(lambda x: extract_keywords(x) if pd.notna(x) else '')\n",
    "\n",
    "    # Save updated CSV\n",
    "    df.to_csv(file, index=False)\n",
    "    print(f\"Updated {file} with ideal_keywords.\")\n"
   ]
  },
  {
   "cell_type": "code",
   "execution_count": null,
   "id": "95a03be9-3422-4a82-b044-08a64b5dc213",
   "metadata": {},
   "outputs": [],
   "source": []
  }
 ],
 "metadata": {
  "kernelspec": {
   "display_name": "Python (venv)",
   "language": "python",
   "name": "venv"
  },
  "language_info": {
   "codemirror_mode": {
    "name": "ipython",
    "version": 3
   },
   "file_extension": ".py",
   "mimetype": "text/x-python",
   "name": "python",
   "nbconvert_exporter": "python",
   "pygments_lexer": "ipython3",
   "version": "3.12.3"
  }
 },
 "nbformat": 4,
 "nbformat_minor": 5
}
